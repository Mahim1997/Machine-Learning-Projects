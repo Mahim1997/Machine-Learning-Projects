{
  "nbformat": 4,
  "nbformat_minor": 0,
  "metadata": {
    "kernelspec": {
      "display_name": "Python 3",
      "language": "python",
      "name": "python3"
    },
    "language_info": {
      "codemirror_mode": {
        "name": "ipython",
        "version": 3
      },
      "file_extension": ".py",
      "mimetype": "text/x-python",
      "name": "python",
      "nbconvert_exporter": "python",
      "pygments_lexer": "ipython3",
      "version": "3.7.2"
    },
    "colab": {
      "name": "Multiclass Logistic Regression Raw Implementation Template.ipynb",
      "provenance": [],
      "collapsed_sections": []
    }
  },
  "cells": [
    {
      "cell_type": "code",
      "metadata": {
        "id": "AltgpJYAwDZk",
        "colab": {
          "base_uri": "https://localhost:8080/",
          "height": 34
        },
        "outputId": "c6435a36-fe1b-4ca1-8642-5e6ab555ee42"
      },
      "source": [
        "# from google.colab import drive\n",
        "# drive.mount('/content/drive')"
      ],
      "execution_count": null,
      "outputs": [
        {
          "output_type": "stream",
          "text": [
            "Mounted at /content/drive\n"
          ],
          "name": "stdout"
        }
      ]
    },
    {
      "cell_type": "code",
      "metadata": {
        "id": "JtP9RPyozutE"
      },
      "source": [
        ""
      ],
      "execution_count": null,
      "outputs": []
    },
    {
      "cell_type": "code",
      "metadata": {
        "id": "NWlx9mOswXvX"
      },
      "source": [
        "# file_name = \"/content/drive/My Drive/ML-Undergrad-Assignments-Projects/Multi-class Logistic Regression/iris_multiclass.csv\""
      ],
      "execution_count": null,
      "outputs": []
    },
    {
      "cell_type": "code",
      "metadata": {
        "id": "odz-3vdcv2aw"
      },
      "source": [
        "#Import required python module(s)\n",
        "import numpy as np "
      ],
      "execution_count": null,
      "outputs": []
    },
    {
      "cell_type": "code",
      "metadata": {
        "id": "1qh1iwkiv2a3",
        "colab": {
          "base_uri": "https://localhost:8080/",
          "height": 101
        },
        "outputId": "f04bbfff-157e-4040-a596-539c0363f9cf"
      },
      "source": [
        "#load data from file\n",
        "data = np.genfromtxt('iris_multiclass.csv', delimiter=',',skip_header=True)\n",
        "# data = np.genfromtxt(file_name, delimiter=',',skip_header=True)\n",
        "\n",
        "#Distribute data into train and test sets\n",
        "X_train = data[:120,[0,1,2,3]]\n",
        "Y_train = data[:120,5]\n",
        "\n",
        "X_test = data[-30:,[0,1,2,3]]\n",
        "Y_test = data[-30:,5]\n",
        "print(Y_train)"
      ],
      "execution_count": null,
      "outputs": [
        {
          "output_type": "stream",
          "text": [
            "[1. 1. 1. 1. 1. 1. 1. 1. 1. 1. 1. 1. 1. 1. 1. 1. 1. 1. 1. 1. 1. 1. 1. 1.\n",
            " 1. 1. 1. 1. 1. 1. 1. 1. 1. 1. 1. 1. 1. 1. 1. 1. 2. 2. 2. 2. 2. 2. 2. 2.\n",
            " 2. 2. 2. 2. 2. 2. 2. 2. 2. 2. 2. 2. 2. 2. 2. 2. 2. 2. 2. 2. 2. 2. 2. 2.\n",
            " 2. 2. 2. 2. 2. 2. 2. 2. 3. 3. 3. 3. 3. 3. 3. 3. 3. 3. 3. 3. 3. 3. 3. 3.\n",
            " 3. 3. 3. 3. 3. 3. 3. 3. 3. 3. 3. 3. 3. 3. 3. 3. 3. 3. 3. 3. 3. 3. 3. 3.]\n"
          ],
          "name": "stdout"
        }
      ]
    },
    {
      "cell_type": "code",
      "metadata": {
        "id": "nbntIex9v2a8"
      },
      "source": [
        "#Define the required Sigmoid function\n",
        "def sigmoid(z):\n",
        "    return 1/(1+np.exp(-z))"
      ],
      "execution_count": null,
      "outputs": []
    },
    {
      "cell_type": "code",
      "metadata": {
        "id": "vzeuPR5yv2bA",
        "colab": {
          "base_uri": "https://localhost:8080/",
          "height": 319
        },
        "outputId": "04374d58-5e8e-4a49-c931-6bcc41440c1c"
      },
      "source": [
        "#Define the Raw implementation function to set the parameters (theta)\n",
        "\n",
        "def fit_implementation(X_train, Y_train, learning_rate=0.0005, max_iteration=1000, debug=False):\n",
        "    #Adding a column of 1's so that the first element of each input is always 1\n",
        "    #It would be multiplied with theta_0 later\n",
        "    X_train= np.insert(X_train, 0, values=1, axis=1)\n",
        "    no_attributes = X_train.shape[1]\n",
        "    \n",
        "    #Initialize model parameters theta\n",
        "    theta = np.zeros((no_attributes,1))\n",
        "    \n",
        "    #Run number of iterations\n",
        "    for icount in range(max_iteration):\n",
        "        #delta is the quantity that will be added with theta during updating theta\n",
        "        delta = np.zeros((no_attributes,1))\n",
        "        totalLogLikelihood = 0\n",
        "        #Check each data point\n",
        "        for instance, actualOutput in zip(X_train,Y_train):\n",
        "            instance=instance.reshape(no_attributes,1)\n",
        "            dotResult = np.dot(theta.T, instance)\n",
        "            \n",
        "            predictedValue=sigmoid(dotResult).squeeze()\n",
        "            #Calculate the derivative value for this data point\n",
        "            derivativeValue = instance*(actualOutput-predictedValue)\n",
        "            #Calculate the amount to be added with theta\n",
        "            delta += learning_rate*derivativeValue\n",
        "\n",
        "            logLikelihood = actualOutput*np.log(predictedValue)+(1-actualOutput)*np.log(1-predictedValue)\n",
        "            totalLogLikelihood += logLikelihood\n",
        "        theta = theta + delta\n",
        "        \n",
        "        #After each 100 iteration, print the status\n",
        "        if icount%100==0 and debug==True:\n",
        "            print(icount)\n",
        "            print(totalLogLikelihood)\n",
        "            print(theta)\n",
        "            \n",
        "    print(totalLogLikelihood)\n",
        "    print(theta)\n",
        "    \n",
        "    return theta\n",
        "\n",
        "\n",
        "def multciClassFitImplementation(X_train, Y_train):\n",
        "    #Determine the list unique classes (unique target variable values) \n",
        "    #Changes required here\n",
        "    (unique_labels_arr, _) = np.unique(Y_train, return_counts=True)\n",
        "\n",
        "    #For each uniqueclass, determine the best classifier/parameter/theta which best separates the class with others\n",
        "    #You can temporarily modify Y_train data to achieve the target and can call the fit_implementation function\n",
        "    parameters = dict()\n",
        "    #Changes required here\n",
        "    for label in unique_labels_arr:\n",
        "      ## https://www.kite.com/python/answers/how-to-replace-elements-in-a-numpy-array-if-a-condition-is-met-in-python#:~:text=Use%20numpy.,that%20do%20not%20with%20y%20.\n",
        "      ## make THIS class label to be 1, others all to be 0\n",
        "      y_temp_train = Y_train\n",
        "      \n",
        "      y_temp_train = np.where(y_temp_train != label, -1, y_temp_train) # make other than this_label become -1\n",
        "\n",
        "      y_temp_train = np.where(y_temp_train == label, 1, y_temp_train) # make this_label become 1\n",
        "\n",
        "      y_temp_train = np.where(y_temp_train == -1, 0, y_temp_train) # make -1 become 0 so, we have [1, 0] only\n",
        "\n",
        "      theta = fit_implementation(X_train, y_temp_train) # fit using above function (temp. Y_train)\n",
        "      parameters[label] = theta # assign dictionary[this_label_key] = current_theta\n",
        "        \n",
        "    return parameters\n",
        "        \n",
        "parameters = multciClassFitImplementation(X_train, Y_train) ## parameters = thetas"
      ],
      "execution_count": null,
      "outputs": [
        {
          "output_type": "stream",
          "text": [
            "-1.3879260321845126\n",
            "[[ 0.28590272]\n",
            " [ 0.46011454]\n",
            " [ 1.60972781]\n",
            " [-2.50791129]\n",
            " [-1.14796962]]\n",
            "-64.76128269268942\n",
            "[[ 0.63087103]\n",
            " [ 0.42606365]\n",
            " [-1.40136046]\n",
            " [ 0.32136084]\n",
            " [-0.77762565]]\n",
            "-19.378481198390663\n",
            "[[-0.93309689]\n",
            " [-1.69285985]\n",
            " [-1.54003974]\n",
            " [ 2.58282908]\n",
            " [ 2.00266044]]\n"
          ],
          "name": "stdout"
        }
      ]
    },
    {
      "cell_type": "code",
      "metadata": {
        "id": "jGyRAZn3v2bD",
        "colab": {
          "base_uri": "https://localhost:8080/",
          "height": 538
        },
        "outputId": "0cf4a9d0-22fb-4b90-aa5a-716c00611b03"
      },
      "source": [
        "#One of the following parameters of the function is now thetas which is a dictionary containing (targetClass,theta) \n",
        "#as (key,value) pairs for all target classes\n",
        "def prediction(X_test, Y_test, thetas):\n",
        "    #Adding a column of 1's so that the first element of each input is always 1\n",
        "    #It would be multiplied with theta_0 later\n",
        "    X_test= np.insert(X_test, 0, values=1, axis=1)\n",
        "    no_attributes = X_test.shape[1]\n",
        "    \n",
        "    correctCount = 0\n",
        "    totalCount = 0\n",
        "    \n",
        "    maxPredictedValue = -10000\n",
        "    predictedClass = 1.0\n",
        "    \n",
        "    #Check each data point\n",
        "    for instance, actualOutput in zip(X_test,Y_test):\n",
        "            instance=instance.reshape(no_attributes,1)\n",
        "            #Determine the maximum predicted value and predictedClass\n",
        "            #Changes required here\n",
        "            \n",
        "            ## h(theta, X) = theta.T * X\n",
        "            maxPredictedValue = -10000\n",
        "            predictedClass = 1.0\n",
        "            for unique_label in thetas.keys():\n",
        "              param_this_label = thetas[unique_label]\n",
        "              predicted_val_this_label = param_this_label.T @ instance\n",
        "              # print(f\"predicted_val_this_label = {predicted_val_this_label}\")\n",
        "              if predicted_val_this_label >= maxPredictedValue:\n",
        "                predictedClass = unique_label\n",
        "                maxPredictedValue = predicted_val_this_label\n",
        "\n",
        "            print(maxPredictedValue, predictedClass, actualOutput)\n",
        "            if predictedClass == actualOutput:\n",
        "                correctCount += 1\n",
        "            totalCount += 1\n",
        "    print(\"Total Correct Count: \",correctCount,\" Total Wrong Count: \",totalCount-correctCount,\" Accuracy: \",(correctCount*100)/(totalCount))\n",
        "    \n",
        "prediction(X_test, Y_test, parameters)"
      ],
      "execution_count": null,
      "outputs": [
        {
          "output_type": "stream",
          "text": [
            "[[3.46816928]] 1.0 1.0\n",
            "[[4.5072006]] 1.0 1.0\n",
            "[[3.8128889]] 1.0 1.0\n",
            "[[4.68904186]] 1.0 1.0\n",
            "[[4.1579075]] 1.0 1.0\n",
            "[[-0.44931684]] 2.0 2.0\n",
            "[[-0.84698976]] 2.0 2.0\n",
            "[[-0.36527755]] 2.0 2.0\n",
            "[[0.02562207]] 2.0 2.0\n",
            "[[-0.21170313]] 2.0 2.0\n",
            "[[1.14145311]] 3.0 3.0\n",
            "[[1.27098693]] 3.0 3.0\n",
            "[[0.87922695]] 3.0 3.0\n",
            "[[1.88843296]] 3.0 3.0\n",
            "[[1.23612787]] 3.0 3.0\n",
            "[[4.61584723]] 1.0 1.0\n",
            "[[2.45411658]] 1.0 1.0\n",
            "[[3.97165712]] 1.0 1.0\n",
            "[[3.51908296]] 1.0 1.0\n",
            "[[3.52523329]] 1.0 1.0\n",
            "[[-0.429165]] 2.0 2.0\n",
            "[[-1.04322257]] 2.0 2.0\n",
            "[[-0.36181706]] 2.0 2.0\n",
            "[[-0.15370768]] 2.0 2.0\n",
            "[[-0.77263985]] 2.0 2.0\n",
            "[[2.22084681]] 3.0 3.0\n",
            "[[0.39059426]] 3.0 3.0\n",
            "[[2.06769182]] 3.0 3.0\n",
            "[[2.47213954]] 3.0 3.0\n",
            "[[2.37138782]] 3.0 3.0\n",
            "Total Correct Count:  30  Total Wrong Count:  0  Accuracy:  100.0\n"
          ],
          "name": "stdout"
        }
      ]
    },
    {
      "cell_type": "markdown",
      "metadata": {
        "id": "c4eliveyv2bH"
      },
      "source": [
        "# Expected Output: \n",
        "Total Correct Count:  30  Total Wrong Count:  0  Accuracy:  100.0"
      ]
    },
    {
      "cell_type": "code",
      "metadata": {
        "id": "Fbf-T6n1v2bI"
      },
      "source": [
        ""
      ],
      "execution_count": null,
      "outputs": []
    }
  ]
}